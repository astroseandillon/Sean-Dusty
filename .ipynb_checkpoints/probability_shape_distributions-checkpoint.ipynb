{
 "cells": [
  {
   "cell_type": "markdown",
   "id": "5bb7cf89",
   "metadata": {},
   "source": [
    "# Calculating the absorption and scattering cross section using a probability distribution"
   ]
  },
  {
   "cell_type": "code",
   "execution_count": 2,
   "id": "935d1248",
   "metadata": {},
   "outputs": [
    {
     "name": "stdout",
     "output_type": "stream",
     "text": [
      "hello world\n"
     ]
    }
   ],
   "source": [
    "import time\n",
    "# AA = time.time()\n",
    "import numpy as np\n",
    "import matplotlib.pyplot as plt\n",
    "import scipy.integrate as spit\n",
    "import os\n",
    "print('hello world')\n"
   ]
  },
  {
   "cell_type": "markdown",
   "id": "ac35618d",
   "metadata": {},
   "source": [
    "\n",
    "\n",
    "\n",
    "\n",
    "\n",
    "\n",
    "### First, we specify which dust we are using"
   ]
  },
  {
   "cell_type": "code",
   "execution_count": 2,
   "id": "ee12046e",
   "metadata": {},
   "outputs": [
    {
     "name": "stdout",
     "output_type": "stream",
     "text": [
      "hello world\n"
     ]
    }
   ],
   "source": [
    "dust_dir = ['/home/physics/Research/DUSTY/DUSTY/Lib_nk/', \n",
    "            \"C:/UTSA/Research/DUSTY/DUSTY/Lib_nk/\"]\n",
    "# this is the possible locations of where dust can be\n",
    "\n",
    "\n",
    "nk_path = dust_dir[1]               #where the dust is \n",
    "dust = 'oliv_nk_y.nk'                  #DUST NAME HERE #grf\n",
    "rho = 3.33 #grams cm**-3            #density\n",
    "pathy = os.path.join(nk_path, dust) #pipeline is open\n",
    "wavelen, n_dust, k_dust = np.loadtxt(pathy, skiprows=12, unpack=True)\n",
    "                                    #lamda, n, and k values are extracted\n",
    "m = np.array([complex(n_dust[i], k_dust[i]) for i in range(len(wavelen))])\n",
    "                                    #joins n, k values into complex number\n",
    "    \n",
    "wavelen = wavelen**(-1) * 10000   #Convert wavelen2 to waveLENGTH from waveNUMBER\n",
    "print('hello world')\n"
   ]
  },
  {
   "cell_type": "markdown",
   "id": "1b8ff311",
   "metadata": {},
   "source": [
    "### This defines the probability distribution"
   ]
  },
  {
   "cell_type": "code",
   "execution_count": 3,
   "id": "f45fc3a1",
   "metadata": {},
   "outputs": [
    {
     "name": "stdout",
     "output_type": "stream",
     "text": [
      "hello world\n"
     ]
    }
   ],
   "source": [
    "def probability(dis_name, l1, l2, lmin=0.05, m1=0, m2=0, d=0):\n",
    "    '''\n",
    "    This is the probability distribution as a function of L1 and L2, the \n",
    "    geometric parameters. This parameter gets inserted into the integral that \n",
    "    calculates the average polarizability per unit volume\n",
    "\n",
    "    Parameters\n",
    "    ----------\n",
    "    dis_name : String\n",
    "        This specifies the distribution we will be using. \n",
    "        'CDE' = Continuous Distribution of Ellipsoids\n",
    "        'ERCDE' = Externally Restricted CDE, returns CDE if lmin=0\n",
    "        'tCDE' = truncated CDE, REQUIRES MORE WORK\n",
    "    l1 : Float\n",
    "        Largest Geometric Constant, lmin<l1<1.0\n",
    "    l2 : Float\n",
    "        Second Largest Geometric Constant, lmin<l2<=l1\n",
    "    lmin : Float, optional\n",
    "        Minimum allowed geometric constant.  The default is 0.\n",
    "\n",
    "    Returns\n",
    "    -------\n",
    "    Float\n",
    "        Function dependent on l1 and l2\n",
    "\n",
    "    '''\n",
    "    l3 = 1 - l1 - l2\n",
    "    if dis_name == 'CDE':\n",
    "        return 2\n",
    "    elif dis_name == 'CDE2':\n",
    "        return 120 * l1 * l2 * l3\n",
    "    elif dis_name == 'ERCDE':\n",
    "        return 2/((1 - (3*lmin))**2)\n",
    "    elif dis_name == 'tCDE':\n",
    "        return 1/((1-d-m2)*(1-m1-m2-d) - 0.5*((1-d-m2)**2) - m1**2)\n",
    "    \n",
    "print('hello world')"
   ]
  },
  {
   "cell_type": "markdown",
   "id": "6bc5b2f5",
   "metadata": {},
   "source": [
    "### Now we define our volume function. v_avg is used to calculate sigma below"
   ]
  },
  {
   "cell_type": "code",
   "execution_count": 3,
   "id": "47c3f86c",
   "metadata": {},
   "outputs": [],
   "source": [
    "def volume_integrand_mrn(r, q):\n",
    "    v = r**(-q)\n",
    "    return v\n",
    "\n",
    "\n",
    "rmin = 0.005\n",
    "rmax = 0.25\n",
    "q = 3.5\n",
    "\n",
    "r_integral = spit.quad(volume_integrand_mrn, rmin, rmax, args=q)\n",
    "r_average = ((1/(rmax - rmin)) * r_integral[0])**(1/-q)\n",
    "v_avg = (4./3.) * np.pi * r_average**3\n",
    "\n"
   ]
  },
  {
   "cell_type": "markdown",
   "id": "ba15ca05",
   "metadata": {},
   "source": [
    "### creates function that calculates Sigma, defined in eq 13 in Min et al 2003"
   ]
  },
  {
   "cell_type": "code",
   "execution_count": 4,
   "id": "f2fc664a",
   "metadata": {},
   "outputs": [
    {
     "name": "stdout",
     "output_type": "stream",
     "text": [
      "hello world\n"
     ]
    }
   ],
   "source": [
    "def sigma(m, lamda, v):\n",
    "    sig = []\n",
    "    for i in range(len(lamda)):\n",
    "        k = (2.0 * np.pi)/lamda[i]\n",
    "        term1 = (6.0*np.pi) / (v * (k**3))\n",
    "        term2 = np.imag((m[i]**2))\n",
    "        term3 = 1.0 / abs(m[i]**2 - 1)**2\n",
    "        sig.append(term1 * term2 * term3)\n",
    "    return sig\n",
    "print('hello world')"
   ]
  },
  {
   "cell_type": "markdown",
   "id": "bf3c1396",
   "metadata": {},
   "source": [
    "### creates our bounds for our geometric factors. The bounds are the sides of a triangle in (l1, l2) space"
   ]
  },
  {
   "cell_type": "code",
   "execution_count": 5,
   "id": "b28b2101",
   "metadata": {},
   "outputs": [
    {
     "name": "stdout",
     "output_type": "stream",
     "text": [
      "hello world\n"
     ]
    }
   ],
   "source": [
    "def bounds_l1():\n",
    "    return [0,1]\n",
    "\n",
    "def bounds_l2(l1):\n",
    "    return [0,1-l1]\n",
    "print('hello world')\n"
   ]
  },
  {
   "cell_type": "markdown",
   "id": "07d2ac26",
   "metadata": {},
   "source": [
    "### This is where we calculate the absorption cross-section (Cabs). It creates an empty list, then calculates Cabs for a CDE distribution at each wavelength as described in Min 03, eqn 15. It then uses this to find the shape averaged mass absorption coefficient for particles of a given volume, as described in Min 03, eqn 39"
   ]
  },
  {
   "cell_type": "code",
   "execution_count": 7,
   "id": "312c3d18",
   "metadata": {},
   "outputs": [
    {
     "name": "stdout",
     "output_type": "stream",
     "text": [
      "This took 66.92529273033142 seconds to run\n"
     ]
    }
   ],
   "source": [
    "aa = time.time()\n",
    "cabs_cde = []\n",
    "for j in range(len(m)):\n",
    "    def f(l1, l2, n=m[j], dis_name='CDE'):\n",
    "        b = 1/(n**2 - 1)\n",
    "        term1 = 1/3 * 1/(b + l1)\n",
    "        term2 = 1/3 * 1/(b + l2)\n",
    "        term3 = 1/3 * 1/(b + 1 - l1 - l2)\n",
    "        # r = np.real((term1 + term2 + term3)*probability(dis_name, l1, l2))\n",
    "        j = np.imag((term1 + term2 + term3)*probability(dis_name, l1, l2))\n",
    "        return j\n",
    "        # return np.real((term1 + term2 + term3)*probability(dis_name, l1, l2)) + np.imag((term1 + term2 + term3)*probability(dis_name, l1, l2))\n",
    "    cabs_cde.append(spit.nquad(f, [bounds_l2, bounds_l1])[0])\n",
    "kappa_cde = np.array((cabs_cde))\n",
    "kappa_cde *= (2 * np.pi / (1e-4*wavelen)) / rho\n",
    "\n",
    "bb = time.time()\n",
    "print('This took {} seconds to run'.format(bb-aa))"
   ]
  },
  {
   "cell_type": "markdown",
   "id": "17a3e30c",
   "metadata": {},
   "source": [
    "### Same as above, using CDE2 distribution"
   ]
  },
  {
   "cell_type": "code",
   "execution_count": 8,
   "id": "7dbce244",
   "metadata": {},
   "outputs": [
    {
     "name": "stdout",
     "output_type": "stream",
     "text": [
      "This took 63.748982191085815 seconds to run\n"
     ]
    }
   ],
   "source": [
    "aa = time.time()\n",
    "cabs_cde2 = []\n",
    "for j in range(len(m)):\n",
    "    def f(l1, l2, n=m[j], dis_name='CDE2'):\n",
    "        b = 1/(n**2 - 1)\n",
    "        term1 = 1/3 * 1/(b + l1)\n",
    "        term2 = 1/3 * 1/(b + l2)\n",
    "        term3 = 1/3 * 1/(b + 1 - l1 - l2)\n",
    "        # r = np.real((term1 + term2 + term3)*probability(dis_name, l1, l2))\n",
    "        j = np.imag((term1 + term2 + term3)*probability(dis_name, l1, l2))\n",
    "        return j\n",
    "        # return np.real((term1 + term2 + term3)*probability(dis_name, l1, l2)) + np.imag((term1 + term2 + term3)*probability(dis_name, l1, l2))\n",
    "    cabs_cde2.append(spit.nquad(f, [bounds_l2, bounds_l1])[0])\n",
    "\n",
    "kappa_cde2 = np.array((cabs_cde2))\n",
    "kappa_cde2 *= (2 * np.pi / (1e-4*wavelen)) / rho\n",
    "bb = time.time()\n",
    "print('This took {} seconds to run'.format(bb-aa))"
   ]
  },
  {
   "cell_type": "markdown",
   "id": "163bc5de",
   "metadata": {},
   "source": [
    "### Same as above, using ERCDE distribution"
   ]
  },
  {
   "cell_type": "code",
   "execution_count": 9,
   "id": "880bba20",
   "metadata": {},
   "outputs": [
    {
     "name": "stdout",
     "output_type": "stream",
     "text": [
      "This took 68.44771718978882 seconds to run\n"
     ]
    }
   ],
   "source": [
    "aa = time.time()\n",
    "cabs_ercde = []\n",
    "for j in range(len(m)):\n",
    "    def f(l1, l2, n=m[j], dis_name='ERCDE'):\n",
    "        b = 1/(n**2 - 1)\n",
    "        term1 = 1/3 * 1/(b + l1)\n",
    "        term2 = 1/3 * 1/(b + l2)\n",
    "        term3 = 1/3 * 1/(b + 1 - l1 - l2)\n",
    "        # r = np.real((term1 + term2 + term3)*probability(dis_name, l1, l2))\n",
    "        j = np.imag((term1 + term2 + term3)*probability(dis_name, l1, l2))\n",
    "        return j\n",
    "        # return np.real((term1 + term2 + term3)*probability(dis_name, l1, l2)) + np.imag((term1 + term2 + term3)*probability(dis_name, l1, l2))\n",
    "    cabs_ercde.append(spit.nquad(f, [bounds_l2, bounds_l1])[0])\n",
    "\n",
    "kappa_ercde = np.array((cabs_ercde))\n",
    "kappa_ercde *= (2 * np.pi / (1e-4*wavelen)) / rho\n",
    "bb = time.time()\n",
    "print('This took {} seconds to run'.format(bb-aa))"
   ]
  },
  {
   "cell_type": "markdown",
   "id": "d97c4d69",
   "metadata": {},
   "source": [
    "### Here is where everything culminates. It gives us our required data in a table that can be input into DUSTY"
   ]
  },
  {
   "cell_type": "code",
   "execution_count": null,
   "id": "d3efd921",
   "metadata": {},
   "outputs": [],
   "source": [
    "Cabs_array = np.array((cabs_cde))\n",
    "sig = np.array((sigma(m, wavelen, v_avg)))\n",
    "Csca_array = Cabs_array/sig\n",
    "\n",
    "output = np.transpose((wavelen, Cabs_array, Csca_array))\n"
   ]
  },
  {
   "cell_type": "markdown",
   "id": "cf6758e6",
   "metadata": {},
   "source": [
    "## This is where the text file is created with it's appropriate header"
   ]
  },
  {
   "cell_type": "code",
   "execution_count": null,
   "id": "96391c4e",
   "metadata": {},
   "outputs": [],
   "source": [
    "line0 = f'standard mrn mixture (a_min = {rmin}, amax = {rmax})\\n'\n",
    "line1 = f'dust, weight: {dust[:-3]}, {wt_a}; {dust2[:-3]}, {wt_b}; {dust3[:-3]}, {wt_c}\\n'\n",
    "line2 = ' lambda \\t <C_abs>/v \\t <C_sca>/v\\n'\n",
    "\n",
    "f = open('look at this.dat', 'w')\n",
    "f.write(line0)\n",
    "f.write(line1)\n",
    "f.write(line2)\n",
    "# f.write(str(output))\n",
    "\n",
    "\n",
    "for i in range(len(output)):\n",
    "    f.write(f\"{output[i,0]} \\t {output[i,1]} \\t {output[i,2]}\\n\")\n",
    "\n",
    "\n",
    "f.close()\n"
   ]
  }
 ],
 "metadata": {
  "kernelspec": {
   "display_name": "Python 3 (ipykernel)",
   "language": "python",
   "name": "python3"
  },
  "language_info": {
   "codemirror_mode": {
    "name": "ipython",
    "version": 3
   },
   "file_extension": ".py",
   "mimetype": "text/x-python",
   "name": "python",
   "nbconvert_exporter": "python",
   "pygments_lexer": "ipython3",
   "version": "3.9.19"
  }
 },
 "nbformat": 4,
 "nbformat_minor": 5
}
