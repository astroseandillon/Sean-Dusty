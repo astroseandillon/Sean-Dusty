{
 "cells": [
  {
   "cell_type": "markdown",
   "id": "5bb7cf89",
   "metadata": {},
   "source": [
    "# Calculating the absorption and scattering cross section using a probability distribution"
   ]
  },
  {
   "cell_type": "code",
   "execution_count": 1,
   "id": "935d1248",
   "metadata": {},
   "outputs": [
    {
     "name": "stdout",
     "output_type": "stream",
     "text": [
      "hello world\n"
     ]
    }
   ],
   "source": [
    "import time\n",
    "# AA = time.time()\n",
    "import numpy as np\n",
    "import matplotlib.pyplot as plt\n",
    "import scipy.integrate as spit\n",
    "import os\n",
    "print('hello world')\n"
   ]
  },
  {
   "cell_type": "markdown",
   "id": "1b8ff311",
   "metadata": {},
   "source": [
    "### This defines the probability distribution"
   ]
  },
  {
   "cell_type": "code",
   "execution_count": 3,
   "id": "f45fc3a1",
   "metadata": {},
   "outputs": [
    {
     "name": "stdout",
     "output_type": "stream",
     "text": [
      "hello world\n"
     ]
    }
   ],
   "source": [
    "def probability(dis_name, l1, l2, lmin=0.05, m1=0, m2=0, d=0):\n",
    "    '''\n",
    "    This is the probability distribution as a function of L1 and L2, the \n",
    "    geometric parameters. This parameter gets inserted into the integral that \n",
    "    calculates the average polarizability per unit volume\n",
    "\n",
    "    Parameters\n",
    "    ----------\n",
    "    dis_name : String\n",
    "        This specifies the distribution we will be using. \n",
    "        'CDE' = Continuous Distribution of Ellipsoids\n",
    "        'ERCDE' = Externally Restricted CDE, returns CDE if lmin=0\n",
    "        'tCDE' = truncated CDE, REQUIRES MORE WORK\n",
    "    l1 : Float\n",
    "        Largest Geometric Constant, lmin<l1<1.0\n",
    "    l2 : Float\n",
    "        Second Largest Geometric Constant, lmin<l2<=l1\n",
    "    lmin : Float, optional\n",
    "        Minimum allowed geometric constant.  The default is 0.\n",
    "\n",
    "    Returns\n",
    "    -------\n",
    "    Float\n",
    "        Function dependent on l1 and l2\n",
    "\n",
    "    '''\n",
    "    l3 = 1 - l1 - l2\n",
    "    if dis_name == 'CDE':\n",
    "        return 2\n",
    "    elif dis_name == 'CDE2':\n",
    "        return 120 * l1 * l2 * l3\n",
    "    elif dis_name == 'ERCDE':\n",
    "        return 2/((1 - (3*lmin))**2)\n",
    "    elif dis_name == 'tCDE':\n",
    "        return 1/((1-d-m2)*(1-m1-m2-d) - 0.5*((1-d-m2)**2) - m1**2)\n",
    "    else:\n",
    "        return True\n",
    "        \n",
    "    \n",
    "print('hello world')"
   ]
  },
  {
   "cell_type": "markdown",
   "id": "6bc5b2f5",
   "metadata": {},
   "source": [
    "### Now we define our volume function. v_avg is used to calculate sigma below"
   ]
  },
  {
   "cell_type": "code",
   "execution_count": 4,
   "id": "47c3f86c",
   "metadata": {},
   "outputs": [],
   "source": [
    "def volume_integrand_mrn(r, q):\n",
    "    v = r**(-q)\n",
    "    return v\n",
    "\n",
    "# UNITS ARE IN MICRONS\n",
    "rmin = 0.005\n",
    "rmax = 0.25\n",
    "q = 3.5\n",
    "\n",
    "r_integral = spit.quad(volume_integrand_mrn, rmin, rmax, args=q)\n",
    "r_average = ((1/(rmax - rmin)) * r_integral[0])**(1/-q)\n",
    "v_avg = (4./3.) * np.pi * r_average**3\n",
    "\n"
   ]
  },
  {
   "cell_type": "markdown",
   "id": "ba15ca05",
   "metadata": {},
   "source": [
    "### creates function that calculates Sigma, defined in eq 13 in Min et al 2003"
   ]
  },
  {
   "cell_type": "code",
   "execution_count": 5,
   "id": "f2fc664a",
   "metadata": {},
   "outputs": [
    {
     "name": "stdout",
     "output_type": "stream",
     "text": [
      "hello world\n"
     ]
    }
   ],
   "source": [
    "def sigma(m, lamda, v):\n",
    "    sig = []\n",
    "    for i in range(len(lamda)):\n",
    "        k = (2.0 * np.pi)/lamda[i]\n",
    "        term1 = (6.0*np.pi) / (v * (k**3))\n",
    "        term2 = np.imag((m[i]**2))\n",
    "        term3 = 1.0 / abs(m[i]**2 - 1)**2\n",
    "        sig.append(term1 * term2 * term3)\n",
    "    return sig\n",
    "print('hello world')"
   ]
  },
  {
   "cell_type": "markdown",
   "id": "bf3c1396",
   "metadata": {},
   "source": [
    "### creates our bounds for our geometric factors. The bounds are the sides of a triangle in (l1, l2) space"
   ]
  },
  {
   "cell_type": "code",
   "execution_count": 6,
   "id": "b28b2101",
   "metadata": {},
   "outputs": [
    {
     "name": "stdout",
     "output_type": "stream",
     "text": [
      "hello world\n"
     ]
    }
   ],
   "source": [
    "def bounds_l1():\n",
    "    return [0,1]\n",
    "\n",
    "def bounds_l2(l1):\n",
    "    return [0,1-l1]\n",
    "print('hello world')\n"
   ]
  },
  {
   "cell_type": "markdown",
   "id": "07d2ac26",
   "metadata": {},
   "source": [
    "### This is where we calculate the absorption cross-section (Cabs). It creates an empty list, then calculates Cabs for a given distribution at each wavelength as described in Min 03, eqn 15. It then uses this to find the shape averaged mass absorption coefficient for particles of a given volume, as described in Min 03, eqn 39"
   ]
  },
  {
   "cell_type": "code",
   "execution_count": 24,
   "id": "36d4d2ed",
   "metadata": {},
   "outputs": [],
   "source": [
    "def cabs(m, dis_name, bounds_l2, bounds_l1):\n",
    "    cabs = []\n",
    "    if dis_name=='spheres':\n",
    "        for j in range(len(m)):\n",
    "            cabs.append(np.imag(3*(m[j]**2 - 1)/(m[j]**2 + 2)))\n",
    "    else:\n",
    "        for j in range(len(m)):\n",
    "            def f(l1, l2, n=m[j], dis_name='CDE'):\n",
    "                b = 1/(n**2 - 1)\n",
    "                term1 = 1/3 * 1/(b + l1)\n",
    "                term2 = 1/3 * 1/(b + l2)\n",
    "                term3 = 1/3 * 1/(b + 1 - l1 - l2)\n",
    "            # r = np.real((term1 + term2 + term3)*probability(dis_name, l1, l2))\n",
    "                j = np.imag((term1 + term2 + term3)*probability(dis_name, l1, l2))\n",
    "                return j\n",
    "            # return np.real((term1 + term2 + term3)*probability(dis_name, l1, l2)) + np.imag((term1 + term2 + term3)*probability(dis_name, l1, l2))\n",
    "            cabs.append(spit.nquad(f, [bounds_l2, bounds_l1])[0])\n",
    "    return cabs\n",
    "\n",
    "# j = cabs(m, 'spheres', bounds_l2, bounds_l1)\n",
    "# # dust = 'grph1-dl.nk'                  #DUST NAME HERE #grf\n",
    "# # rho = 3.33 #grams cm**-3            #density\n",
    "# # pathy = os.path.join(nk_path, dust) #pipeline is open\n",
    "# # wavelen, n_dust, k_dust = np.loadtxt(pathy, skiprows=7, unpack=True)\n",
    "# #                                     #lamda, n, and k values are extracted\n",
    "# # m = np.array([complex(n_dust[i], k_dust[i]) for i in range(len(wavelen))])\n",
    "# k = cabs(m, 'CDE', bounds_l2, bounds_l1)\n",
    "\n",
    "# print(j)\n",
    "# # print('')\n",
    "# print(k)"
   ]
  },
  {
   "cell_type": "markdown",
   "id": "ac35618d",
   "metadata": {},
   "source": [
    "\n",
    "\n",
    "\n",
    "\n",
    "\n",
    "\n",
    "# Specify which dust we are using"
   ]
  },
  {
   "cell_type": "code",
   "execution_count": 18,
   "id": "ee12046e",
   "metadata": {},
   "outputs": [
    {
     "name": "stdout",
     "output_type": "stream",
     "text": [
      "hello world\n"
     ]
    }
   ],
   "source": [
    "dust_dir = ['/home/physics/Research/DUSTY/DUSTY/Lib_nk/', \n",
    "            \"C:/UTSA/Research/DUSTY/DUSTY/Lib_nk/\"]\n",
    "# this is the possible locations of where dust can be\n",
    "\n",
    "\n",
    "nk_path = dust_dir[1]               #where the dust is \n",
    "dust = 'sil-dlee.nk'                  #DUST NAME HERE #grf\n",
    "rho = 3.33 #grams cm**-3            #density\n",
    "pathy = os.path.join(nk_path, dust) #pipeline is open\n",
    "wavelen, n_dust, k_dust = np.loadtxt(pathy, skiprows=7, unpack=True)\n",
    "                                    #lamda, n, and k values are extracted\n",
    "m = np.array([complex(n_dust[i], k_dust[i]) for i in range(len(wavelen))])\n",
    "                                    #joins n, k values into complex number\n",
    "\n",
    "    \n",
    "# wavelen = wavelen**(-1) * 10000   #Convert wavelen2 to waveLENGTH from waveNUMBER\n",
    "# uncomment the above line if the wavelength column is in wavenumber\n",
    "\n",
    "print('hello world')\n",
    "#wavelen units are now MICRONS\n"
   ]
  },
  {
   "cell_type": "markdown",
   "id": "d97c4d69",
   "metadata": {},
   "source": [
    "### Here is where everything culminates. It gives us our required data in a table that can be input into DUSTY"
   ]
  },
  {
   "cell_type": "code",
   "execution_count": 25,
   "id": "d3efd921",
   "metadata": {},
   "outputs": [],
   "source": [
    "j = cabs(m, 'spheres', bounds_l2, bounds_l1)\n",
    "Cabs_array = np.array((j))\n",
    "Cabs_array *= (2 * np.pi / (wavelen)) * v_avg\n",
    "sig = np.array((sigma(m, wavelen, v_avg)))\n",
    "Csca_array = Cabs_array/sig\n",
    "\n",
    "output = np.transpose((wavelen, Cabs_array, Csca_array))\n"
   ]
  },
  {
   "cell_type": "markdown",
   "id": "cf6758e6",
   "metadata": {},
   "source": [
    "## This is where the text file is created with it's appropriate header"
   ]
  },
  {
   "cell_type": "code",
   "execution_count": 26,
   "id": "96391c4e",
   "metadata": {},
   "outputs": [],
   "source": [
    "line0 = f'standard mrn mixture (a_min = {rmin}, amax = {rmax})\\n'\n",
    "# # line1 = f'dust, weight: {dust[:-3]}, {wt_a}; {dust2[:-3]}, {wt_b}; {dust3[:-3]}, {wt_c}\\n'\n",
    "line2 = ' lambda \\t <C_abs>/v \\t <C_sca>/v\\n'\n",
    "\n",
    "f = open('look at this.dat', 'w')\n",
    "f.write(line0)\n",
    "# f.write(line1)\n",
    "f.write(line2)\n",
    "# # f.write(str(output))\n",
    "\n",
    "\n",
    "for i in range(len(output)):\n",
    "    f.write(f\"{output[i,0]} \\t {output[i,1]} \\t {output[i,2]}\\n\")\n",
    "\n",
    "\n",
    "f.close()\n"
   ]
  },
  {
   "cell_type": "code",
   "execution_count": 26,
   "id": "94efd386",
   "metadata": {},
   "outputs": [
    {
     "data": {
      "text/plain": [
       "<matplotlib.legend.Legend at 0x777662d514f0>"
      ]
     },
     "execution_count": 26,
     "metadata": {},
     "output_type": "execute_result"
    },
    {
     "data": {
      "image/png": "[encoded data removed]",
      "text/plain": [
       "<Figure size 640x480 with 1 Axes>"
      ]
     },
     "metadata": {},
     "output_type": "display_data"
    }
   ],
   "source": [
    "fig, ax = plt.subplots()\n",
    "title = 'Lorem ipsum dolor sit amet. '\n",
    "ax.set(xscale='linear', yscale='log', xlim=(8.5,40))\n",
    "ax.set_title(title, fontsize=16)\n",
    "ax.set_xlabel(r'$\\lambda (\\mu m)$', fontsize=14)\n",
    "ax.set_ylabel(r'$<C_{abs}>$ cm$^{2}$ g$^{-1}$', fontsize=14)\n",
    "ax.plot(wavelen, cabs_sph_array, label='spheres')\n",
    "ax.plot(wavelen, np.array((cabs_cde)), label='CDE')\n",
    "ax.plot(wavelen, np.array((cabs_ercde)), label='ERCDE')\n",
    "ax.legend()"
   ]
  },
  {
   "cell_type": "code",
   "execution_count": 8,
   "id": "312c3d18",
   "metadata": {},
   "outputs": [
    {
     "name": "stdout",
     "output_type": "stream",
     "text": [
      "This took 0.7805263996124268 seconds to run\n"
     ]
    }
   ],
   "source": [
    "# aa = time.time()\n",
    "# cabs_cde = []\n",
    "# for j in range(len(m)):\n",
    "#     def f(l1, l2, n=m[j], dis_name='CDE'):\n",
    "#         b = 1/(n**2 - 1)\n",
    "#         term1 = 1/3 * 1/(b + l1)\n",
    "#         term2 = 1/3 * 1/(b + l2)\n",
    "#         term3 = 1/3 * 1/(b + 1 - l1 - l2)\n",
    "#         # r = np.real((term1 + term2 + term3)*probability(dis_name, l1, l2))\n",
    "#         j = np.imag((term1 + term2 + term3)*probability(dis_name, l1, l2))\n",
    "#         return j\n",
    "#         # return np.real((term1 + term2 + term3)*probability(dis_name, l1, l2)) + np.imag((term1 + term2 + term3)*probability(dis_name, l1, l2))\n",
    "#     cabs_cde.append(spit.nquad(f, [bounds_l2, bounds_l1])[0])\n",
    "# kappa_cde = np.array((cabs_cde))\n",
    "# kappa_cde *= (2 * np.pi / (wavelen)) * v_avg\n",
    "\n",
    "# bb = time.time()\n",
    "# print('This took {} seconds to run'.format(bb-aa))"
   ]
  },
  {
   "cell_type": "markdown",
   "id": "17a3e30c",
   "metadata": {},
   "source": [
    "### Same as above, using CDE2 distribution"
   ]
  },
  {
   "cell_type": "code",
   "execution_count": 8,
   "id": "7dbce244",
   "metadata": {},
   "outputs": [
    {
     "name": "stdout",
     "output_type": "stream",
     "text": [
      "This took 57.84627676010132 seconds to run\n"
     ]
    }
   ],
   "source": [
    "# aa = time.time()\n",
    "# cabs_cde2 = []\n",
    "# for j in range(len(m)):\n",
    "#     def f(l1, l2, n=m[j], dis_name='CDE2'):\n",
    "#         b = 1/(n**2 - 1)\n",
    "#         term1 = 1/3 * 1/(b + l1)\n",
    "#         term2 = 1/3 * 1/(b + l2)\n",
    "#         term3 = 1/3 * 1/(b + 1 - l1 - l2)\n",
    "#         # r = np.real((term1 + term2 + term3)*probability(dis_name, l1, l2))\n",
    "#         j = np.imag((term1 + term2 + term3)*probability(dis_name, l1, l2))\n",
    "#         return j\n",
    "#         # return np.real((term1 + term2 + term3)*probability(dis_name, l1, l2)) + np.imag((term1 + term2 + term3)*probability(dis_name, l1, l2))\n",
    "#     cabs_cde2.append(spit.nquad(f, [bounds_l2, bounds_l1])[0])\n",
    "\n",
    "# kappa_cde2 = np.array((cabs_cde2))\n",
    "# kappa_cde2 *= (2 * np.pi / (1e-4*wavelen)) * v_avg\n",
    "# bb = time.time()\n",
    "# print('This took {} seconds to run'.format(bb-aa))"
   ]
  },
  {
   "cell_type": "markdown",
   "id": "163bc5de",
   "metadata": {},
   "source": [
    "### Same as above, using ERCDE distribution"
   ]
  },
  {
   "cell_type": "code",
   "execution_count": 9,
   "id": "880bba20",
   "metadata": {},
   "outputs": [
    {
     "name": "stdout",
     "output_type": "stream",
     "text": [
      "This took 65.09752011299133 seconds to run\n"
     ]
    }
   ],
   "source": [
    "# aa = time.time()\n",
    "# cabs_ercde = []\n",
    "# for j in range(len(m)):\n",
    "#     def f(l1, l2, n=m[j], dis_name='ERCDE'):\n",
    "#         b = 1/(n**2 - 1)\n",
    "#         term1 = 1/3 * 1/(b + l1)\n",
    "#         term2 = 1/3 * 1/(b + l2)\n",
    "#         term3 = 1/3 * 1/(b + 1 - l1 - l2)\n",
    "#         # r = np.real((term1 + term2 + term3)*probability(dis_name, l1, l2))\n",
    "#         j = np.imag((term1 + term2 + term3)*probability(dis_name, l1, l2))\n",
    "#         return j\n",
    "#         # return np.real((term1 + term2 + term3)*probability(dis_name, l1, l2)) + np.imag((term1 + term2 + term3)*probability(dis_name, l1, l2))\n",
    "#     cabs_ercde.append(spit.nquad(f, [bounds_l2, bounds_l1])[0])\n",
    "\n",
    "# kappa_ercde = np.array((cabs_ercde))\n",
    "# kappa_ercde *= (2 * np.pi / (1e-4*wavelen)) * v_avg\n",
    "# bb = time.time()\n",
    "# print('This took {} seconds to run'.format(bb-aa))"
   ]
  },
  {
   "cell_type": "markdown",
   "id": "deaba678",
   "metadata": {},
   "source": [
    "### Spheres only"
   ]
  },
  {
   "cell_type": "code",
   "execution_count": 23,
   "id": "8e00c618",
   "metadata": {},
   "outputs": [],
   "source": [
    "# cabs_spheres_sildl = []\n",
    "# for j in range(len(m)):\n",
    "#     cabs_spheres_sildl.append((2 * np.pi / (wavelen[j]))*v_avg*np.imag(3*(m[j]**2 - 1)/(m[j]**2 + 2)))\n",
    "# cabs_sph_array_sildl = np.array((cabs_spheres_sildl))\n",
    "# cabs_sph_array_sildl"
   ]
  },
  {
   "cell_type": "code",
   "execution_count": 22,
   "id": "e3c01a3b",
   "metadata": {},
   "outputs": [],
   "source": [
    "# cabs_spheres_grph = []\n",
    "# for j in range(len(m)):\n",
    "#     cabs_spheres_grph.append((2 * np.pi / (wavelen[j]))*v_avg*np.imag(3*(m[j]**2 - 1)/(m[j]**2 + 2)))\n",
    "# cabs_sph_array_grph = np.array((cabs_spheres_grph))\n",
    "# cabs_spheres_grph"
   ]
  },
  {
   "cell_type": "code",
   "execution_count": 13,
   "id": "0bb51bb2",
   "metadata": {},
   "outputs": [
    {
     "name": "stdout",
     "output_type": "stream",
     "text": [
      "hello world\n"
     ]
    }
   ],
   "source": [
    "print('hello world')"
   ]
  },
  {
   "cell_type": "code",
   "execution_count": 19,
   "id": "b7fbaad3",
   "metadata": {},
   "outputs": [],
   "source": [
    "plt.close('all')"
   ]
  },
  {
   "cell_type": "code",
   "execution_count": null,
   "id": "f441ab33",
   "metadata": {},
   "outputs": [],
   "source": []
  }
 ],
 "metadata": {
  "kernelspec": {
   "display_name": "Python 3 (ipykernel)",
   "language": "python",
   "name": "python3"
  },
  "language_info": {
   "codemirror_mode": {
    "name": "ipython",
    "version": 3
   },
   "file_extension": ".py",
   "mimetype": "text/x-python",
   "name": "python",
   "nbconvert_exporter": "python",
   "pygments_lexer": "ipython3",
   "version": "3.9.18"
  }
 },
 "nbformat": 4,
 "nbformat_minor": 5
}
