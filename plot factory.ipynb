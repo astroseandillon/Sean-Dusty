{
 "cells": [
  {
   "cell_type": "markdown",
   "id": "54c82947-3b47-4287-a49e-f68554e0a2fb",
   "metadata": {},
   "source": [
    "## Making a jupyter notebook for different plots"
   ]
  },
  {
   "cell_type": "code",
   "execution_count": 11,
   "id": "9a54c1b4-fd3b-446f-8a07-1896669566ea",
   "metadata": {},
   "outputs": [],
   "source": [
    "import numpy as np\n",
    "import matplotlib.pyplot as plt\n",
    "\n",
    "plt.close('all')\n",
    "dust_dir = ['/home/physics/Research/DUSTY/DUSTY/Lib_nk/', \n",
    "            \"C:/UTSA/Research/DUSTY/DUSTY/Lib_nk/\",\n",
    "           \"C:/Users/uhe082/OneDrive - University of Texas at San Antonio/Lib_nk\"]\n",
    "# this is the possible locations of where dust can be\n",
    "\n",
    "\n",
    "nk_path = dust_dir[1]               #where the dust is \n"
   ]
  },
  {
   "cell_type": "code",
   "execution_count": 9,
   "id": "6834f460-1bd0-487d-b14f-86c8da81a1c6",
   "metadata": {},
   "outputs": [],
   "source": [
    "\n",
    "x1, y1, z1 = np.loadtxt('ism-stnd.dat', unpack=True,skiprows=3)\n",
    "x2, y2, z2 = np.loadtxt('sil530grp3132grp1566.dat', unpack=True)\n",
    "x3, y3, z3 = np.loadtxt('oliv_nk_xCDE2.dat', unpack=True)\n",
    "# y4 = np.average((y1,y2[:-1],y3[:-2]),axis=0)\n",
    "\n",
    "x4, y4, z4 = np.loadtxt('oli10oli10oli10.dat', unpack=True)\n",
    "# x5, y5, z5 = np.loadtxt('ism.dat', skiprows=3, unpack=True)\n",
    "\n",
    "x5, y5 = np.loadtxt('cde2_fab01_fig7_olivine_8_13.csv', delimiter=',', skiprows=1, unpack=True)\n",
    "# x6, y6, z6 = np.loadtxt('ISM_std_jumbalaya.dat', unpack=True)"
   ]
  },
  {
   "cell_type": "code",
   "execution_count": 18,
   "id": "da2aa0f3-b0cc-477b-a656-9ce9f3470f51",
   "metadata": {},
   "outputs": [
    {
     "name": "stderr",
     "output_type": "stream",
     "text": [
      "No artists with labels found to put in legend.  Note that artists whose label start with an underscore are ignored when legend() is called with no argument.\n"
     ]
    },
    {
     "data": {
      "image/png": "[encoded data removed]",
      "text/plain": [
       "<Figure size 640x480 with 1 Axes>"
      ]
     },
     "metadata": {},
     "output_type": "display_data"
    }
   ],
   "source": [
    "title = 'NK regridded'\n",
    "fig, ax = plt.subplots()\n",
    "\n",
    "ax.set(xscale='linear', yscale='linear')\n",
    "\n",
    "ax.set_title(title, fontsize=16)\n",
    "ax.set_xlabel(r'$\\lambda (\\mu m)$', fontsize=14)\n",
    "ax.set_ylabel(r'$\\kappa$', fontsize=14)\n",
    "ax.set_xlim(-1,100)\n",
    "ax.set_ylim(-1,100)\n",
    "\n",
    "# ax.plot(x1, k1, label='oliv z CDE')\n",
    "# ax.plot(x2, k2, label='oliv y CDE')\n",
    "# ax.plot(x3, k3, label='oliv x CDE')\n",
    "# ax.plot(x1, y1, label='ISM_std')\n",
    "\n",
    "# ax.plot(x2, y2/v_avg,'.', label='new')\n",
    "# ax.plot(x6, y6, label='Dillon 2024')\n",
    "# ax.plot(x6, k6, label='Dillon 2024 kappa')\n",
    "\n",
    "ax.legend(loc='lower right')\n",
    "plt.show()"
   ]
  },
  {
   "cell_type": "code",
   "execution_count": null,
   "id": "4c2b19d4-a731-4dca-8f62-fd877e929c1e",
   "metadata": {},
   "outputs": [],
   "source": []
  }
 ],
 "metadata": {
  "kernelspec": {
   "display_name": "Python 3 (ipykernel)",
   "language": "python",
   "name": "python3"
  },
  "language_info": {
   "codemirror_mode": {
    "name": "ipython",
    "version": 3
   },
   "file_extension": ".py",
   "mimetype": "text/x-python",
   "name": "python",
   "nbconvert_exporter": "python",
   "pygments_lexer": "ipython3",
   "version": "3.12.4"
  }
 },
 "nbformat": 4,
 "nbformat_minor": 5
}
